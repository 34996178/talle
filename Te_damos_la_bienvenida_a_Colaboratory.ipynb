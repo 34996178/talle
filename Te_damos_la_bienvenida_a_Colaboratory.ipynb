{
  "cells": [
    {
      "cell_type": "markdown",
      "metadata": {
        "id": "view-in-github",
        "colab_type": "text"
      },
      "source": [
        "<a href=\"https://colab.research.google.com/github/34996178/talle/blob/main/Te_damos_la_bienvenida_a_Colaboratory.ipynb\" target=\"_parent\"><img src=\"https://colab.research.google.com/assets/colab-badge.svg\" alt=\"Open In Colab\"/></a>"
      ]
    },
    {
      "cell_type": "code",
      "source": [
        "\n",
        "n = int(input(\"4:\"))\n",
        "\n",
        "if n <= 0:\n",
        "    print(\"5\")\n",
        "else:\n",
        "\n",
        "    contador = 1\n",
        "\n",
        "\n",
        "    while contador <= n:\n",
        "        print(contador)\n",
        "        contador += 1\n"
      ],
      "metadata": {
        "colab": {
          "base_uri": "https://localhost:8080/"
        },
        "id": "1lb7p8LVty4P",
        "outputId": "0afa0a38-4759-4c48-9b43-f97ad11c1c8b"
      },
      "execution_count": 1,
      "outputs": [
        {
          "output_type": "stream",
          "name": "stdout",
          "text": [
            "Ingrese un número entero positivo: 6\n",
            "1\n",
            "2\n",
            "3\n",
            "4\n",
            "5\n",
            "6\n"
          ]
        }
      ]
    },
    {
      "cell_type": "code",
      "source": [
        "\n",
        "suma = 2\n",
        "\n",
        "\n",
        "for numero in range(1, 101):\n",
        "\n",
        "    if numero % 2 == 0:\n",
        "\n",
        "        suma += numero\n",
        "\n",
        "\n",
        "print(\"La suma de los números pares del 1 al 100 es:\", suma)\n"
      ],
      "metadata": {
        "colab": {
          "base_uri": "https://localhost:8080/"
        },
        "id": "zZ9F4f1hvkym",
        "outputId": "82538584-6b6e-43be-c2ea-d69c440a0deb"
      },
      "execution_count": 4,
      "outputs": [
        {
          "output_type": "stream",
          "name": "stdout",
          "text": [
            "La suma de los números pares del 1 al 100 es: 2552\n"
          ]
        }
      ]
    },
    {
      "cell_type": "code",
      "source": [
        "\n",
        "n = int(input(\"Ingrese la cantidad de filas para el patrón: \"))\n",
        "\n",
        "\n",
        "for i in range(1, n + 1):\n",
        "\n",
        "    for j in range(1, i + 1):\n",
        "        print(j, end='')\n",
        "\n",
        "    print()\n"
      ],
      "metadata": {
        "colab": {
          "base_uri": "https://localhost:8080/"
        },
        "id": "zf18p2Scv3HN",
        "outputId": "537c0fc8-d614-459c-8a4d-dfb5fa5be5f3"
      },
      "execution_count": 6,
      "outputs": [
        {
          "output_type": "stream",
          "name": "stdout",
          "text": [
            "Ingrese la cantidad de filas para el patrón: 5\n",
            "1\n",
            "12\n",
            "123\n",
            "1234\n",
            "12345\n"
          ]
        }
      ]
    },
    {
      "cell_type": "code",
      "source": [
        "\n",
        "n = int(input(\"Ingrese un número entero positivo: \"))\n",
        "\n",
        "if n <= 0:\n",
        "    print(\"Por favor, ingrese un número entero positivo.\")\n",
        "else:\n",
        "    contador_divisores = 0\n",
        "    divisor = 2\n",
        "\n",
        "    while divisor <= n // 2:\n",
        "        if n % divisor == 0:\n",
        "            contador_divisores += 1\n",
        "            break\n",
        "        divisor += 1\n",
        "\n",
        "    if contador_divisores == 0:\n",
        "        print(f\"{n} es un número primo.\")\n",
        "    else:\n",
        "        print(f\"{n} no es un número primo.\")\n"
      ],
      "metadata": {
        "colab": {
          "base_uri": "https://localhost:8080/"
        },
        "id": "vl23VHr9wHcQ",
        "outputId": "40ad940f-2bc8-4eab-83c8-5e31084b9422"
      },
      "execution_count": 7,
      "outputs": [
        {
          "output_type": "stream",
          "name": "stdout",
          "text": [
            "Ingrese un número entero positivo: 8\n",
            "8 no es un número primo.\n"
          ]
        }
      ]
    },
    {
      "cell_type": "code",
      "source": [],
      "metadata": {
        "id": "4DZ_HBUCxbRp"
      },
      "execution_count": null,
      "outputs": []
    },
    {
      "cell_type": "code",
      "source": [
        "while True:\n",
        "    operacion = input(\"Ingrese una operación (suma, resta, multiplicación, división) o 'salir' para salir: \").lower()\n",
        "\n",
        "    if operacion == 'salir':\n",
        "        print(\"Saliendo del programa. ¡Hasta luego!\")\n",
        "        break\n",
        "\n",
        "    if operacion not in ('suma', 'resta', 'multiplicación', 'división'):\n",
        "        print(\"Operación no válida. Por favor, ingrese una operación válida.\")\n",
        "        continue\n",
        "\n",
        "    num1 = float(input(\"Ingrese el primer número: \"))\n",
        "    num2 = float(input(\"Ingrese el segundo número: \"))\n",
        "\n",
        "    if operacion == 'suma':\n",
        "        resultado = num1 + num2\n",
        "    elif operacion == 'resta':\n",
        "        resultado = num1 - num2\n",
        "    elif operacion == 'multiplicación':\n",
        "        resultado = num1 * num2\n",
        "    elif operacion == 'división':\n",
        "        if num2 == 0:\n",
        "            print(\"No se puede dividir entre cero.\")\n",
        "            continue\n",
        "        resultado = num1 / num2\n",
        "\n",
        "\n",
        "    print(\"El resultado de la operación es:\", resultado)\n"
      ],
      "metadata": {
        "colab": {
          "base_uri": "https://localhost:8080/"
        },
        "id": "6OyBrlf0w_G_",
        "outputId": "b41a21c2-a7c4-4525-c484-6fbb7ee46ee4"
      },
      "execution_count": 9,
      "outputs": [
        {
          "output_type": "stream",
          "name": "stdout",
          "text": [
            "Ingrese una operación (suma, resta, multiplicación, división) o 'salir' para salir: suma\n",
            "Ingrese el primer número: 3\n",
            "Ingrese el segundo número: 2\n",
            "El resultado de la operación es: 5.0\n",
            "Ingrese una operación (suma, resta, multiplicación, división) o 'salir' para salir: multiplicación\n",
            "Ingrese el primer número: 3\n",
            "Ingrese el segundo número: 2\n",
            "El resultado de la operación es: 6.0\n",
            "Ingrese una operación (suma, resta, multiplicación, división) o 'salir' para salir: división \n",
            "Operación no válida. Por favor, ingrese una operación válida.\n",
            "Ingrese una operación (suma, resta, multiplicación, división) o 'salir' para salir: división \n",
            "Operación no válida. Por favor, ingrese una operación válida.\n",
            "Ingrese una operación (suma, resta, multiplicación, división) o 'salir' para salir: salir\n",
            "Saliendo del programa. ¡Hasta luego!\n"
          ]
        }
      ]
    },
    {
      "cell_type": "code",
      "source": [
        "\n",
        "numero = int(input(\"Ingrese un número entero: \"))\n",
        "\n",
        "for i in range(numero, 0, -1):\n",
        "    print(i)\n"
      ],
      "metadata": {
        "colab": {
          "base_uri": "https://localhost:8080/"
        },
        "id": "MpL9xfg9xnjV",
        "outputId": "4267c9d1-f1fb-4fe0-eee0-1ec509d09005"
      },
      "execution_count": 10,
      "outputs": [
        {
          "output_type": "stream",
          "name": "stdout",
          "text": [
            "Ingrese un número entero: 6\n",
            "6\n",
            "5\n",
            "4\n",
            "3\n",
            "2\n",
            "1\n"
          ]
        }
      ]
    },
    {
      "cell_type": "code",
      "source": [
        "\n",
        "n = int(input(\"Ingrese un valor para n: \"))\n",
        "\n",
        "\n",
        "a, b = 0, 1\n",
        "\n",
        "\n",
        "print(a)\n",
        "while b <= n:\n",
        "    print(b)\n",
        "    a, b = b, a + b\n"
      ],
      "metadata": {
        "colab": {
          "base_uri": "https://localhost:8080/"
        },
        "id": "qwMSSpl8yIzX",
        "outputId": "0d2a5d95-1898-4d98-e364-baf6fba7ce96"
      },
      "execution_count": 11,
      "outputs": [
        {
          "output_type": "stream",
          "name": "stdout",
          "text": [
            "Ingrese un valor para n: 7\n",
            "0\n",
            "1\n",
            "1\n",
            "2\n",
            "3\n",
            "5\n"
          ]
        }
      ]
    },
    {
      "cell_type": "code",
      "source": [
        "\n",
        "numero = int(input(\"Ingrese un número entero positivo: \"))\n",
        "\n",
        "if numero <= 0:\n",
        "    print(\"Por favor, ingrese un número entero positivo.\")\n",
        "else:\n",
        "    suma_digitos = 0\n",
        "    while numero > 0:\n",
        "        digito = numero % 10\n",
        "        suma_digitos += digito\n",
        "        numero //= 10\n",
        "    print(\"La suma de los dígitos del número es:\", suma_digitos)\n",
        "\n"
      ],
      "metadata": {
        "colab": {
          "base_uri": "https://localhost:8080/"
        },
        "id": "rdJpC0IvAXm9",
        "outputId": "6baffc84-3285-4a4e-f091-a8dc4207ee8c"
      },
      "execution_count": 13,
      "outputs": [
        {
          "output_type": "stream",
          "name": "stdout",
          "text": [
            "Ingrese un número entero positivo: 18\n",
            "La suma de los dígitos del número es: 9\n"
          ]
        }
      ]
    },
    {
      "cell_type": "code",
      "source": [],
      "metadata": {
        "id": "hThh06WYBFiP"
      },
      "execution_count": null,
      "outputs": []
    }
  ],
  "metadata": {
    "colab": {
      "name": "Te damos la bienvenida a Colaboratory",
      "toc_visible": true,
      "provenance": [],
      "include_colab_link": true
    },
    "kernelspec": {
      "display_name": "Python 3",
      "name": "python3"
    }
  },
  "nbformat": 4,
  "nbformat_minor": 0
}